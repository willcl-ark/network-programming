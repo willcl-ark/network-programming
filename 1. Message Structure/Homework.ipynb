{
 "cells": [
  {
   "cell_type": "markdown",
   "metadata": {},
   "source": [
    "# Filling in the Gaps\n",
    "\n",
    "You're probably still a little confused about a few things from the lesson:\n",
    "\n",
    "* Why does `print(bytes([10, 100, 200])) -> b'\\nd\\xc8'` looks so odd? \n",
    "    * What's with the `\\n`? \n",
    "    * What's with the `\\x`? \n",
    "    * Are the `c` and the `8` related to the `\\x`?\n",
    "    * Is `d` related to either `\\n`, `\\x`, or neither?\n",
    "* How should we interpret these exotic byte literals when you encounter one _in the wild_?\n",
    "* How does the magical `int.from_bytes` function work?\n",
    "* How does its inverse function `int.to_bytes` work?\n",
    "\n",
    "To answer these questions we will make a `bites` class that acts just like `bytes`, but with a few minor differences: \n",
    "* Prints itself with strings (`\"\\x00\\xff\"`) instead of instead of the special `bytes` literals (`b\"\\x00\\xff\"`) .\n",
    "* Will duplicate the functionality of the magical `int.from_bytes` and `int.to_bytes` methods by implementing its `bites.from_int` and `bites.to_int` methods.\n",
    "\n",
    "Here's a skeleton of the class:"
   ]
  },
  {
   "cell_type": "code",
   "execution_count": null,
   "metadata": {},
   "outputs": [],
   "source": [
    "class bites:\n",
    "    \n",
    "    def __init__(self, ???):\n",
    "        ???\n",
    "        \n",
    "    def __repr__(self):\n",
    "        return \"(cheating) \" + repr(self.values)\n",
    "\n",
    "    def to_int(self, byte_order):\n",
    "        raise NotImplementedError()\n",
    "    \n",
    "    @classmethod\n",
    "    def from_int(cls, n, length, byte_order):\n",
    "        raise NotImplementedError()"
   ]
  },
  {
   "cell_type": "markdown",
   "metadata": {},
   "source": [
    "# Representation & Numbers\n",
    "\n",
    "A \"byte\" is a value `x` such that `0 <= x < 256`.\n",
    "\n",
    "Simple.\n",
    "\n",
    "How can we represent a number above 256 as a series of bytes? Hmm ...\n",
    "\n",
    "Let's think about how we solve this with our normal decimal numbers. Instead of 256 separate values or \"places\", we only have 10 places with values `y` such that `0 <= y < 9`.\n",
    "\n",
    "What happens when we encounter a number outside this range? Say the number after 9, `9 + 1`? We no longer have a \"numberal\" or number symbol to represent it. We could invent one of course, but that would be a memorization nightmare ...\n",
    "\n",
    "Instead we employ an ingenius trick to utilize _two numerals to rempresent 1 number_. It's really clever when you think of it. Of course, we write this `9 + 1` as `10` -- the left character represents that we have run out of numerals 1 time. It's the 10's place. The right numberal says that we haven't started going up again. We can repeat this procedure indefinitely. Here's the number 518:\n",
    "\n",
    "<center>\n",
    "\n",
    "```\n",
    "     0              5           1         8\n",
    "----------  ...  ---------- ---------- ----------\n",
    "  10**n's          100's       10's       1's  \n",
    "\n",
    "``` \n",
    "</center>\n",
    "\n",
    "Therefore, any number `N` can be represented as a sum\n",
    "\n",
    "\n",
    "$$ \\sum_{i=0}^{i=n} a_{i} *  10^i = a_n *  10^n + ... + a_2 *  10^2 + a_1 *  10^1 + a_{0} *  10^0 $$\n",
    "\n",
    "\n",
    "We can employ exactly the same trick to represent numbers greater than 256 as a series of bytes (numbers 0 <= x < 256). Just replaces the old threshold 10 with the new threshold 256:\n",
    "\n",
    "$$ \\sum_{i=0}^{i=n} a_{i} * 256^i =  a_n * 256^n + ... + a_2 * 256^2 + a_1 * 256^1 + a_{0} * 256^0 $$\n",
    "\n",
    "The trick here is to go from an `int` to a list of values where each item represents a place in the base 256 expansion of the `int` we're dealing with. Here's the number 518 (2 * 256^1 + 6 * 256^0):\n",
    "\n",
    "<center>\n",
    "    \n",
    "```\n",
    "   0                0           2         6\n",
    "----------  ...  ---------- ---------- ----------\n",
    " 256**n's          65536's     256's       1's  \n",
    "\n",
    "```\n",
    "</center>\n",
    "\n",
    "So we have a representation. In Python we could use the `list` data structure to store this: $[a_n, ..., a_2, a_1, a_0]$. \n",
    "\n",
    "The decimal representation of 518 would have $a_2 = 5$, $a_1 = 1$, $a_0 = 8$ and leaving us with a representation of `[5, 1, 8]`. \n",
    "\n",
    "The base 256 respresentation of 518 would have $a_1 = 2$ and $a_0 = 6$ leaving us with a representation of `[2, 6]`\n",
    "\n",
    "Let's update the `bites` constructor to use this representation:"
   ]
  },
  {
   "cell_type": "code",
   "execution_count": null,
   "metadata": {},
   "outputs": [],
   "source": [
    "class bites:\n",
    "    \n",
    "    def __init__(self, values):\n",
    "        # a list of numbers x: 0 <= x < 256\n",
    "        self.values = values\n",
    "        \n",
    "    def __repr__(self):\n",
    "        return \"(cheating) \" + repr(self.values)\n",
    "\n",
    "    def to_int(self, byte_order):\n",
    "        raise NotImplementedError()\n",
    "    \n",
    "    @classmethod\n",
    "    def from_int(cls, n, length, byte_order):\n",
    "        raise NotImplementedError()"
   ]
  },
  {
   "cell_type": "markdown",
   "metadata": {},
   "source": [
    "Now we just need an algorithm to go back and forth between `bites` and `int`. Let's start with the `bites` -> `int` direction.\n",
    "\n",
    "# Implement `bites.to_int(places)`"
   ]
  },
  {
   "cell_type": "markdown",
   "metadata": {},
   "source": [
    "Here's a number we will be working with throughout this lesson:"
   ]
  },
  {
   "cell_type": "code",
   "execution_count": null,
   "metadata": {},
   "outputs": [],
   "source": [
    "N = 92837365"
   ]
  },
  {
   "cell_type": "markdown",
   "metadata": {},
   "source": [
    "Here is the list representation of the decimals / base-10 expansion of this number as discussed above:"
   ]
  },
  {
   "cell_type": "code",
   "execution_count": null,
   "metadata": {},
   "outputs": [],
   "source": [
    "PLACES = [9, 2, 8, 3, 7, 3, 6, 5]"
   ]
  },
  {
   "cell_type": "markdown",
   "metadata": {},
   "source": [
    "## Step 1: `decimal_places_to_int(places)`\n",
    "\n",
    "Your first exercise is to write a `decimal_places_to_int(places)` function. It's correct if `decimal_places_to_int(PLACES) == N`.\n",
    "\n",
    "This is a tricky exercise so take your time with it!"
   ]
  },
  {
   "cell_type": "code",
   "execution_count": null,
   "metadata": {},
   "outputs": [],
   "source": [
    "def decimal_places_to_int(places):\n",
    "    raise NotImplementedError()"
   ]
  },
  {
   "cell_type": "code",
   "execution_count": null,
   "metadata": {},
   "outputs": [],
   "source": [
    "def test():\n",
    "    assert decimal_places_to_int(PLACES) == N\n",
    "    print(\"Test passed!\")\n",
    "\n",
    "test()"
   ]
  },
  {
   "cell_type": "markdown",
   "metadata": {},
   "source": [
    "([answers.py](./answers.py) if you can't figure it out)\n",
    "\n",
    "\n",
    "## Step 2: `base_256_places_to_int(places)`\n",
    "\n",
    "Now do it with base-256.\n",
    "\n",
    "It's correct if `base_256_places_to_int([5, 136, 149, 245]) == N`\n",
    "\n",
    "This one's quite a bit easier!"
   ]
  },
  {
   "cell_type": "code",
   "execution_count": null,
   "metadata": {},
   "outputs": [],
   "source": [
    "def base_256_places_to_int(places):\n",
    "    raise NotImplementedError()"
   ]
  },
  {
   "cell_type": "code",
   "execution_count": null,
   "metadata": {},
   "outputs": [],
   "source": [
    "def test():\n",
    "    assert base_256_places_to_int([5, 136, 149, 245]) == N\n",
    "    print(\"Test passed!\")\n",
    "\n",
    "test()"
   ]
  },
  {
   "cell_type": "markdown",
   "metadata": {},
   "source": [
    "## Step 3: `places_to_int(places, base)`\n",
    "\n",
    "Modify `base_256_places_to_int` so that it accepts arbitrary bases (e.g. 10 or 256):"
   ]
  },
  {
   "cell_type": "code",
   "execution_count": null,
   "metadata": {},
   "outputs": [],
   "source": [
    "def places_to_int(places, base):\n",
    "    raise NotImplementedError()"
   ]
  },
  {
   "cell_type": "code",
   "execution_count": null,
   "metadata": {},
   "outputs": [],
   "source": [
    "def test():\n",
    "    assert places_to_int([5, 136, 149, 245], 256) == N\n",
    "    assert places_to_int([int(x, 16) for x in hex(N)[2:]], 16) == N\n",
    "    assert places_to_int([int(x, 2) for x in bin(N)[2:]], 2) == N\n",
    "    print(\"Test passed!\")\n",
    "\n",
    "test()"
   ]
  },
  {
   "cell_type": "markdown",
   "metadata": {},
   "source": [
    "## Step 4: `places_to_int(places, base, byte_order)`\n",
    "\n",
    "This is how we've been choosing to represent the number `92837365` in base-256: `[5, 136, 149, 245]`\n",
    "\n",
    "The larger places on the left, smaller places to the right. Just like familiar decimal nubmers\n",
    "\n",
    "```\n",
    "    5     136     149     245\n",
    "-----   -----   -----   -----\n",
    "256^3   256^2   256^1   256^0\n",
    "```\n",
    "\n",
    "But isn't this choice completely arbitrary? Why not do the opposite: smaller places to the left, larger places to the right? \n",
    "\n",
    "```\n",
    "  245     149     136       5\n",
    "-----   -----   -----   -----\n",
    "256^0   256^1   256^2   256^3\n",
    "```\n",
    "\n",
    "These choices are completely arbitrary! Different areas of computer science prefer one way or the other.\n",
    "\n",
    "The order we've been using up to this point -- big places to the left, little places to the right -- is called **\"Big Endian\"**. This is preferred in network programming.\n",
    "\n",
    "The second one -- little places to the left, big places to the right -- is called **\"Little Endian\"**. This is how computers usually store information internally.\n",
    "\n",
    "Even within Bitcoin, Satoshi didn't choose one way or the other. He generally preferred \"little endian\" but he encodes IP addresses using \"big endian\". What a mess!\n",
    "\n",
    "You can find an interesting discussion of \"endianness\" [here](https://bitcoin.stackexchange.com/questions/2063/why-does-the-bitcoin-protocol-use-the-little-endian-notation) and a nice YouTube video [here](https://www.youtube.com/watch?v=seZLUbgbB7Y)\n",
    "\n",
    "\n",
    "##### Exercise: add another parameter to our function so that it can handle \"Little Endian\" byte order. \n",
    "\n",
    "* If `byte_order` is `\"little\"` you just need to reverse the list:\n",
    "* Raise a `ValueError` if `byte_order` isn't `\"big\"` or `\"little\"`"
   ]
  },
  {
   "cell_type": "code",
   "execution_count": null,
   "metadata": {},
   "outputs": [],
   "source": [
    "from utils import assert_raises\n",
    "\n",
    "def places_to_int(places, base, byte_order):\n",
    "    raise NotImplementedError()"
   ]
  },
  {
   "cell_type": "code",
   "execution_count": null,
   "metadata": {},
   "outputs": [],
   "source": [
    "def test():\n",
    "    assert places_to_int([5, 136, 149, 245], 256, 'big') == N\n",
    "    assert places_to_int([5, 136, 149, 245][::-1], 256, 'little') == N\n",
    "    \n",
    "    assert places_to_int([int(x, 16) for x in hex(N)[2:]], 16, 'big') == N\n",
    "    assert places_to_int([int(x, 16) for x in hex(N)[2:]][::-1], 16, 'little') == N\n",
    "\n",
    "    assert_raises(places_to_int, [], 10, 'foo')\n",
    "    \n",
    "    print(\"Test passes\")\n",
    "    \n",
    "test()"
   ]
  },
  {
   "cell_type": "markdown",
   "metadata": {},
   "source": [
    "## Step 5: `bites.to_int(base, byte_order)`"
   ]
  },
  {
   "cell_type": "code",
   "execution_count": null,
   "metadata": {},
   "outputs": [],
   "source": [
    "class bites:\n",
    "    \n",
    "    def __init__(self, values):\n",
    "        self.values = values\n",
    "        \n",
    "    def __repr__(self):\n",
    "        return \"(cheating) \" + repr(self.values)\n",
    "    \n",
    "    def to_int(self, byte_order):\n",
    "        raise NotImplementedError()\n",
    "        \n",
    "    @classmethod\n",
    "    def from_int(cls, n, length, byte_order):\n",
    "        raise NotImplementedError()"
   ]
  },
  {
   "cell_type": "code",
   "execution_count": null,
   "metadata": {},
   "outputs": [],
   "source": [
    "def test():\n",
    "    places = [5, 136, 149, 245]\n",
    "    assert bites(places).to_int('big') == N\n",
    "    assert bites(places[::-1]).to_int('little') == N\n",
    "\n",
    "test()"
   ]
  },
  {
   "cell_type": "markdown",
   "metadata": {},
   "source": [
    "You've now completely implemented the functionality provided by `int.from_bytes`. Nice work! Now to the next method ...\n",
    "\n",
    "# Implement `bites.from_int(...)`\n",
    "\n",
    "`bites.to_int` handled `bites`-to-`int` conversions. Now let's implement a `bites.from_int` classmethod to do `int`-to-`bites` conversions. \n",
    "\n",
    "\n",
    "### `classmethod`\n",
    "\n",
    "If you want a refresher on classmethods, check out [this video](https://www.youtube.com/watch?v=rq8cL2XMM5M&t=18s). They're useful when you want to create an instance of a class from data which doesn't fit in the class' `__init__` [constructor](https://stackoverflow.com/a/8986413/2542016). In our case, we can't call `bites(92837365)` because the bites constructor expects a `list` and not an `int`. We could put some fancy logic in our `bites.__init__` to check if the argument is an integer and convert if it is -- but that is frowned upon because it makes the `__init__` function hard to read. \n",
    "\n",
    "Instead, we will write a `bites.from_int` classmethod which will allow us to create `bites` instances directly from `int`s: \n",
    "\n",
    "> ```some_bites = bites.from_int(some_int)```\n",
    "\n",
    "It will translate the `int` into a `list` and then pass that to the constructor `bites.__init__`. Our constructor stays nice and clean and we can still do type conversions!\n",
    "\n",
    "### Division\n",
    "\n",
    "`bytes.to_int` used multiplication: we started with a list of values, multified them by coefficients according to some rules, and added up the result.\n",
    "\n",
    "`bytes.from_int` will use division. We will start with a number and divide off the base-256 places one at a time. It will be like dealing from a deck of cards ....\n",
    "\n",
    "![ChessUrl](https://tenor.com/view/ref-with-yellow-cards-fifa18-pose-throw-cards-gif-12023802.gif \"chess\")\n",
    "\n",
    "\n",
    "Division can be confusing. [Watch the next 10 seconds of this childrens' video for a refresher](https://youtu.be/KGMf314LUc0?t=76).\n",
    "\n",
    "To compute $\\frac{x}{y}$, we just just take groups of `y` from `x` until some number less than `y` is left. What's left is called the \"remainder\". \n",
    "\n",
    "Here's some notation and vocab review to jog your memory:\n",
    "\n",
    "$$\n",
    "\\require{enclose}\n",
    "\\begin{array}{rll}\n",
    "    quotient && \\hbox{+ remainder} \\\\[-3pt]\n",
    "   divisor \\enclose{longdiv}{dividend}\\kern-.2ex \\\\[-3pt]\n",
    "  \\end{array}\n",
    "$$\n",
    "\n",
    "$$\n",
    "\\frac{dividend}{divisor} = quotient + \\frac{remainder}{divisor} \\hspace{1cm} \\hbox{where remainder is < divisor} \n",
    "$$\n",
    "\n",
    "### Division in Python\n",
    "\n",
    "Python has 3 primary division operators:\n",
    "\n",
    "`/` is floating point division\n",
    "\n",
    "`//` is floor division\n",
    "\n",
    "`%` is the \"modulus\" (remainder after division)"
   ]
  },
  {
   "cell_type": "code",
   "execution_count": null,
   "metadata": {},
   "outputs": [],
   "source": [
    "# Floating point division\n",
    "# Returns quotient + remainder / divisor as a float\n",
    "\n",
    "5 / 2"
   ]
  },
  {
   "cell_type": "code",
   "execution_count": null,
   "metadata": {},
   "outputs": [],
   "source": [
    "# Floor division \n",
    "# Returns the quotient, discards the remainder\n",
    "\n",
    "5 // 2"
   ]
  },
  {
   "cell_type": "code",
   "execution_count": null,
   "metadata": {},
   "outputs": [],
   "source": [
    "# Modulus\n",
    "# Returns the remainder\n",
    "\n",
    "5 % 2"
   ]
  },
  {
   "cell_type": "markdown",
   "metadata": {},
   "source": [
    "Let's attempt to use these division operators to deconstruct the hex representation of N:"
   ]
  },
  {
   "cell_type": "code",
   "execution_count": null,
   "metadata": {},
   "outputs": [],
   "source": [
    "hex(N)"
   ]
  },
  {
   "cell_type": "code",
   "execution_count": null,
   "metadata": {},
   "outputs": [],
   "source": [
    "# Modulus gives us the right-most place\n",
    "hex(N % 16)"
   ]
  },
  {
   "cell_type": "code",
   "execution_count": null,
   "metadata": {},
   "outputs": [],
   "source": [
    "# Floor division gives us the rest of the places\n",
    "hex(N // 16)"
   ]
  },
  {
   "cell_type": "code",
   "execution_count": null,
   "metadata": {},
   "outputs": [],
   "source": [
    "# Combining // and % can traverse the hex representation\n",
    "# This computs the 2nd place\n",
    "\n",
    "hex(N // 16 % 16)"
   ]
  },
  {
   "cell_type": "code",
   "execution_count": null,
   "metadata": {
    "scrolled": true
   },
   "outputs": [],
   "source": [
    "# How they're related\n",
    "N == 16 * (N // 16) + (N % 16)"
   ]
  },
  {
   "cell_type": "markdown",
   "metadata": {},
   "source": [
    "Now you know how to compute the 1's place ($16^0$) of the hexidecimal representation of N.\n",
    "\n",
    "##### Exercise: Compute the 1's place ($256^0$) of the base-256 representation of N"
   ]
  },
  {
   "cell_type": "code",
   "execution_count": null,
   "metadata": {},
   "outputs": [],
   "source": [
    "def get_ones_place():\n",
    "    return N % 256"
   ]
  },
  {
   "cell_type": "code",
   "execution_count": null,
   "metadata": {},
   "outputs": [],
   "source": [
    "def test_get_ones_place():\n",
    "    assert get_ones_place() == 245\n",
    "    print(\"Test passed\")\n",
    "\n",
    "test_get_ones_place()"
   ]
  },
  {
   "cell_type": "markdown",
   "metadata": {},
   "source": [
    "Now you know how to compute the 1's place ($16^0$) of the hexidecimal and base-256 representations of N.\n",
    "\n",
    "##### Exercise: Compute the 65536's place ($256^2$) using only the `//` and `%` operators?"
   ]
  },
  {
   "cell_type": "code",
   "execution_count": null,
   "metadata": {},
   "outputs": [],
   "source": [
    "def get_65536s_place():\n",
    "    raise NotImplementedError()"
   ]
  },
  {
   "cell_type": "code",
   "execution_count": null,
   "metadata": {},
   "outputs": [],
   "source": [
    "def test_get_65536s_place():\n",
    "    assert get_65536s_place() == 136\n",
    "    print(\"Test passed\")\n",
    "    \n",
    "test_get_65536s_place()"
   ]
  },
  {
   "cell_type": "markdown",
   "metadata": {},
   "source": [
    "## Step 1:  `int_to_256_places(n)`\n",
    "\n",
    "Use the techniques above to compute base-256 representation of numbers of the form discussed in `bites.to_int` section above.\n",
    "\n",
    "If you can't get it, check out the table 3 cells down ...."
   ]
  },
  {
   "cell_type": "code",
   "execution_count": null,
   "metadata": {},
   "outputs": [],
   "source": [
    "def int_to_base_256_places(n):\n",
    "    raise NotImplementedError()"
   ]
  },
  {
   "cell_type": "code",
   "execution_count": null,
   "metadata": {
    "scrolled": true
   },
   "outputs": [],
   "source": [
    "def test():\n",
    "    assert int_to_base_256_places(N) == [5, 136, 149, 245]\n",
    "    print(\"Test passed\")\n",
    "    \n",
    "test()"
   ]
  },
  {
   "cell_type": "markdown",
   "metadata": {},
   "source": [
    "Here's how my solution works:\n",
    "\n",
    "**step**|**n**|**places**|**explanation**\n",
    ":-----:|:-----:|:-----:|:-----:\n",
    " |92837365|[]|initial\n",
    "%|92837365|[245]|92837365 % 256 == 245\n",
    "//|362645|[245]|92837365 // 256 == 362645\n",
    "%|362645|[149, 245]|362645 % 256 == 149 ; insert at index 0\n",
    "//|1416|[149,  245]|362645 // 256 == 1416\n",
    "%|1416|[136, 149, 245]|1416 % 256 == 136 ; insert at index 0\n",
    "//|5|[136, 149, 245]|1416 // 256 == 5\n",
    "%|5|[5, 136, 149, 245]|5 % 256 == 5 ; insert at index 0\n",
    "//|0|[5, 136, 149, 245]|5 // 256 == 0\n",
    "...|...|...|loop terminates\n",
    "\n",
    "See how it's like dealing cards? With every loop we grab off the modulus and wipe out 1 factor of 256 from the polynomial expansion of `n` so that the next time we look for the modulus we'll get the next place. (FIXME: formatting below sucks)\n",
    "\n",
    "$$ a_n * 256^n + ... + a_1 * 256^1 + a_{0} * 256^0  \\mod 256 = a_0 $$\n",
    "$$ a_n * 256^n + ... + a_1 * 256^1 + a_{0} * 256^0  // 256 = a_{n} * 256^{n-1} + ... + a_1 * 256^0 + 0  $$\n",
    "$$  a_{n-1} * 256^{n-1} + ... + a_1 * 256^0  \\mod 256 = a_1 $$\n",
    "$$ ... $$"
   ]
  },
  {
   "cell_type": "markdown",
   "metadata": {},
   "source": [
    "## Step 2: `int_to_places(n, base)`\n",
    "\n",
    "Now add a second parameter to the function and rename it to `int_to_places(n, base)` so that it works with any base (e.g. 10 or 256).\n",
    "\n",
    "Test it against the binary, octal, and hex representations we say above. For example, we saw `hex(92837365)` was `0x58895f5`, so as a list it should be `[5, 8, 8, 9, 5, 15, 5]` (hex `f` equals decimal `15`)."
   ]
  },
  {
   "cell_type": "code",
   "execution_count": null,
   "metadata": {},
   "outputs": [],
   "source": [
    "def int_to_places(n, base):\n",
    "    raise NotImplementedError()\n",
    "\n",
    "print(int_to_places(N, 16))  # is this what you expect?"
   ]
  },
  {
   "cell_type": "code",
   "execution_count": null,
   "metadata": {},
   "outputs": [],
   "source": [
    "def test():\n",
    "    assert int_to_places(N, 256) == [5, 136, 149, 245]\n",
    "    assert int_to_places(N, 16) == [int(x, 16) for x in hex(N)[2:]]\n",
    "    assert int_to_places(N, 2) == [int(x, 2) for x in bin(N)[2:]]\n",
    "    print(\"Test passed\")\n",
    "\n",
    "test()"
   ]
  },
  {
   "cell_type": "code",
   "execution_count": null,
   "metadata": {},
   "outputs": [],
   "source": [
    "(256).to_bytes(1, 'big')"
   ]
  },
  {
   "cell_type": "markdown",
   "metadata": {},
   "source": [
    "## Step 3: `int_to_places(n, base, length)`\n",
    "\n",
    "Remember how every field in the protocol docs' \"Message Structure\" table has a `length` attribute?\n",
    "\n",
    "![image](../images/message-structure.png)\n",
    "\n",
    "We need to be able to support that, too. We should be able to say `int_to_places(1, 4)` and get [0, 0, 0, 1]. This feature helps us interpret and produce n-byte integer fields we encounter in the Bitcoin protocol.\n",
    "\n",
    "Raise a `ValueError` if `n` doesn't fit in that many `bites` using the given `base`"
   ]
  },
  {
   "cell_type": "code",
   "execution_count": null,
   "metadata": {},
   "outputs": [],
   "source": [
    "0 // 256, 0 % 256"
   ]
  },
  {
   "cell_type": "code",
   "execution_count": null,
   "metadata": {},
   "outputs": [],
   "source": [
    "def int_to_places(n, base, length):\n",
    "    raise NotImplementedError()"
   ]
  },
  {
   "cell_type": "code",
   "execution_count": null,
   "metadata": {},
   "outputs": [],
   "source": [
    "def test():\n",
    "    assert int_to_places(N, 256, 10) == [0] * 6 + [5, 136, 149, 245]\n",
    "    \n",
    "    vals = [int(x, 16) for x in hex(N)[2:]]\n",
    "    zeros = [0] * (20 - len(vals))\n",
    "    assert int_to_places(N, 16, 20) == zeros + vals\n",
    "\n",
    "    # You need 2 places to encode 16 in hex (0x10)\n",
    "    assert_raises(int_to_places, 16, 16, 1)\n",
    "\n",
    "test()"
   ]
  },
  {
   "cell_type": "markdown",
   "metadata": {},
   "source": [
    "## Step 4:  `int_to_places(n, base, length, byte_order)`\n",
    "\n",
    "Add another parameter to our function so that it can handle \"Little Endian\" byte order. If the `byte_order` isn't `\"little\"` or `\"big\"` then raise a `ValueError`."
   ]
  },
  {
   "cell_type": "code",
   "execution_count": null,
   "metadata": {},
   "outputs": [],
   "source": [
    "def int_to_places(n, base, length, byte_order):\n",
    "    raise NotImplementedError()"
   ]
  },
  {
   "cell_type": "code",
   "execution_count": null,
   "metadata": {},
   "outputs": [],
   "source": [
    "def test():\n",
    "    vals = [5, 136, 149, 245]\n",
    "    assert int_to_places(N, 256, len(vals), 'big') == vals\n",
    "    assert int_to_places(N, 256, len(vals), 'little') == vals[::-1]\n",
    "\n",
    "    vals = [int(x, 16) for x in hex(N)[2:]]\n",
    "    assert int_to_places(N, 16, len(vals), 'big') == vals\n",
    "    assert int_to_places(N, 16, len(vals), 'little') == vals[::-1]\n",
    "\n",
    "    assert_raises(int_to_places, 1, 10, 1, 'dog')\n",
    "    \n",
    "    print(\"Test passed\")\n",
    "\n",
    "test()"
   ]
  },
  {
   "cell_type": "markdown",
   "metadata": {},
   "source": [
    "## Step 5:  `bites.from_int(n, base, length, byte_order)`\n",
    "\n",
    "\n",
    "Let's put it all together. Fill out the `from_int` method below and get the tests to pass"
   ]
  },
  {
   "cell_type": "code",
   "execution_count": null,
   "metadata": {},
   "outputs": [],
   "source": [
    "class bites:\n",
    "    \n",
    "    def __init__(self, values):\n",
    "        self.values = values\n",
    "        \n",
    "    def __repr__(self):\n",
    "        return \"(cheating) \" + repr(self.values)\n",
    "    \n",
    "    def to_int(self, byte_order):\n",
    "        return places_to_int(self.values, 256, byte_order)\n",
    "    \n",
    "    @classmethod\n",
    "    def from_int(cls, n, length, byte_order):\n",
    "        raise NotImplementedError()"
   ]
  },
  {
   "cell_type": "code",
   "execution_count": null,
   "metadata": {},
   "outputs": [],
   "source": [
    "def test():\n",
    "    vals = [5, 136, 149, 245]\n",
    "    assert bites.from_int(N, len(vals), 'big').values == vals\n",
    "    assert bites.from_int(N, len(vals), 'little').values == vals[::-1]\n",
    "    \n",
    "    # round trip\n",
    "    assert bites.from_int(N, 4, 'big').to_int('big') == N\n",
    "    \n",
    "    print(\"Test passed\")\n",
    "\n",
    "test()"
   ]
  },
  {
   "cell_type": "markdown",
   "metadata": {},
   "source": [
    "# `bites.__repr__`\n",
    "\n",
    "The representations of Python objects are determined by `.__repr__()` methods.\n",
    "\n",
    "Let's see `bytes.__repr__` in action:"
   ]
  },
  {
   "cell_type": "code",
   "execution_count": null,
   "metadata": {},
   "outputs": [],
   "source": [
    "for i in range(256):\n",
    "    print(i, \"->\", bytes([i]))"
   ]
  },
  {
   "cell_type": "markdown",
   "metadata": {},
   "source": [
    "I want you to implement a function that can print `bites` instances in the same way. To assist with this one I'm going to give you a list of character codes that have special meaning to `bytes`.\n",
    "\n",
    "Below is a dictionary containing an `int -> ascii character` mapping of all numbers in 0 <= x < 256 with special meaning to `bytes`."
   ]
  },
  {
   "cell_type": "code",
   "execution_count": null,
   "metadata": {
    "scrolled": false
   },
   "outputs": [],
   "source": [
    "from utils import special_chars\n",
    "\n",
    "print(special_chars)"
   ]
  },
  {
   "cell_type": "markdown",
   "metadata": {},
   "source": [
    "Any value left unassigned by that dictionary should be converted into \"\\x\" + hexidecimal representation. For example the number 150 is ontside the dictionary. It would therefore be presented as `\"\\x96\"` because it's hexidecimal representation is `96`.\n",
    "\n",
    "### Exercise: Implement a  `represent` function that works exactly like `bytes.__repr__` but with strings\n",
    "\n",
    "Here's how it should work:\n",
    "\n",
    "`represent(bytes([145, 22, 75, 1, 83])) -> \"\\\\x91\\\\x16K\\\\x98S\"`\n",
    "\n",
    "We need to escape the `\\` with another `\\` because characters following `\\x` will be converted to Unicode by python's string engine:"
   ]
  },
  {
   "cell_type": "code",
   "execution_count": null,
   "metadata": {},
   "outputs": [],
   "source": [
    "'\\xff'  # We don't want this!!"
   ]
  },
  {
   "cell_type": "code",
   "execution_count": null,
   "metadata": {},
   "outputs": [],
   "source": [
    "def represent(b):\n",
    "    raise NotImplementedError()\n",
    "\n",
    "# How does it look?\n",
    "represent(bites([145, 22, 75, 1, 83]))"
   ]
  },
  {
   "cell_type": "code",
   "execution_count": null,
   "metadata": {},
   "outputs": [],
   "source": [
    "def test():\n",
    "    assert represent(bites([145, 22, 75, 1, 83])) == \"\\\\x91\\\\x16K\\\\x01S\"\n",
    "    print(\"Test passed\")\n",
    "    \n",
    "test()"
   ]
  },
  {
   "cell_type": "markdown",
   "metadata": {},
   "source": [
    "# Put it all together (with some help from our friends)\n",
    "\n",
    "I'm going to add 2 methods that our Lesson 1 code requires: `.strip` and `__eq__`. To simplify things I just convert to `bytes` and have it do all the work. I'll explain these after the exercise ...\n",
    "\n",
    "Go ahead an copy your solution from the last exercise into place as `bites.__repr__`:"
   ]
  },
  {
   "cell_type": "code",
   "execution_count": null,
   "metadata": {},
   "outputs": [],
   "source": [
    "class bites:\n",
    "    \n",
    "    def __init__(self, values):\n",
    "        self.values = values\n",
    "    \n",
    "    def __eq__(self, other):\n",
    "        return self.values == other.values\n",
    "    \n",
    "    def __repr__(self):\n",
    "        raise NotImplementedError()\n",
    "        \n",
    "    def to_int(self, byte_order):\n",
    "        return places_to_int(self.values, 256, byte_order)\n",
    "    \n",
    "    @classmethod\n",
    "    def from_int(cls, n, length, byte_order):\n",
    "        places = int_to_places(n, 256, length, byte_order)\n",
    "        return cls(places)\n",
    "\n",
    "    def strip(self):\n",
    "        return bites(list(bytes(self.values).strip(b\"\\x00\")))\n",
    "\n",
    "# How does it look?\n",
    "bites([145, 22, 75, 1, 83])"
   ]
  },
  {
   "cell_type": "code",
   "execution_count": null,
   "metadata": {},
   "outputs": [],
   "source": [
    "def test():\n",
    "    assert repr(bites([145, 22, 75, 152, 83])) == \"\\\\x91\\\\x16K\\\\x98S\"\n",
    "    print(\"Test passed\")\n",
    "    \n",
    "test()"
   ]
  },
  {
   "cell_type": "markdown",
   "metadata": {},
   "source": [
    "### `bites.__eq__`\n",
    "\n",
    "needed for  magic bytes comparisons"
   ]
  },
  {
   "cell_type": "code",
   "execution_count": null,
   "metadata": {},
   "outputs": [],
   "source": [
    "bites([0xf9, 0xbe, 0xb4, 0xd9]) == bites([0xF9, 0xBE, 0xB4, 0xD9])"
   ]
  },
  {
   "cell_type": "markdown",
   "metadata": {
    "scrolled": true
   },
   "source": [
    "### `bites.strip()` needed for reading commands"
   ]
  },
  {
   "cell_type": "code",
   "execution_count": null,
   "metadata": {
    "scrolled": true
   },
   "outputs": [],
   "source": [
    "b = bites(list(b\"version\\x00\\x00\\x00\\x00\\x00\"))\n",
    "\n",
    "print(\"unstripped:\", b)\n",
    "print(\"stripped:\", b.strip())"
   ]
  },
  {
   "cell_type": "markdown",
   "metadata": {},
   "source": [
    "### `BiteStream`\n",
    "\n",
    "This class turns streams of `bytes` into streams of `bites`"
   ]
  },
  {
   "cell_type": "code",
   "execution_count": null,
   "metadata": {},
   "outputs": [],
   "source": [
    "class BitesStream:\n",
    "\n",
    "    def __init__(self, stream):\n",
    "        self.stream = stream\n",
    "\n",
    "    def read(self, n):\n",
    "        return bites(list(self.stream.read(n)))\n",
    "        \n",
    "    def __getattr__(self, name):\n",
    "        return getattr(self.stream, name)"
   ]
  },
  {
   "cell_type": "markdown",
   "metadata": {},
   "source": [
    "### Hashing `bites`\n",
    "\n",
    "`hashlib.sha256` requires inputs to the \"Buffer API\" which we won't bother with (you've got to implement it in C ...)"
   ]
  },
  {
   "cell_type": "code",
   "execution_count": null,
   "metadata": {},
   "outputs": [],
   "source": [
    "from hashlib import sha256\n",
    "\n",
    "def compute_checksum(b):\n",
    "    hashed = sha256(sha256(bytes(b.values)).digest()).digest()\n",
    "    checksum = hashed[:4]\n",
    "    return b.__class__(list(checksum))"
   ]
  },
  {
   "cell_type": "markdown",
   "metadata": {},
   "source": [
    "# Reading Bitcoin Messages From `bites`"
   ]
  },
  {
   "cell_type": "markdown",
   "metadata": {},
   "source": [
    "A couple small tweeks to make our `NetworkEnvelope` class developed in Lesson 1 work with `bites` instead of `bytes`"
   ]
  },
  {
   "cell_type": "code",
   "execution_count": null,
   "metadata": {},
   "outputs": [],
   "source": [
    "NETWORK_MAGIC = bites([0xf9, 0xbe, 0xb4, 0xd9])\n",
    "\n",
    "class NetworkEnvelope:\n",
    "\n",
    "    def __init__(self, command, payload):\n",
    "        self.command = command\n",
    "        self.payload = payload\n",
    "\n",
    "    @classmethod\n",
    "    def from_stream(cls, stream):\n",
    "        magic = stream.read(4)\n",
    "        if magic != NETWORK_MAGIC:\n",
    "            raise ValueError('Network magic is wrong')\n",
    "\n",
    "        command = stream.read(12).strip()\n",
    "        payload_length = stream.read(4).to_int('little')\n",
    "        checksum = stream.read(4)\n",
    "        payload = stream.read(payload_length)\n",
    "        \n",
    "        if checksum != compute_checksum(payload):\n",
    "            raise RuntimeError(\"Checksums don't match\")\n",
    "\n",
    "        return cls(command, payload)\n",
    "\n",
    "    def __repr__(self):\n",
    "        return f\"<NetworkEnvelope command={self.command}>\""
   ]
  },
  {
   "cell_type": "code",
   "execution_count": null,
   "metadata": {},
   "outputs": [],
   "source": [
    "import socket\n",
    "\n",
    "# magic \"version\" bytestring\n",
    "VERSION = b'\\xf9\\xbe\\xb4\\xd9version\\x00\\x00\\x00\\x00\\x00j\\x00\\x00\\x00\\x9b\"\\x8b\\x9e\\x7f\\x11\\x01\\x00\\x0f\\x04\\x00\\x00\\x00\\x00\\x00\\x00\\x93AU[\\x00\\x00\\x00\\x00\\x0f\\x04\\x00\\x00\\x00\\x00\\x00\\x00\\x00\\x00\\x00\\x00\\x00\\x00\\x00\\x00\\x00\\x00\\x00\\x00\\x00\\x00\\x00\\x00\\x00\\x00\\x0f\\x04\\x00\\x00\\x00\\x00\\x00\\x00\\x00\\x00\\x00\\x00\\x00\\x00\\x00\\x00\\x00\\x00\\x00\\x00\\x00\\x00\\x00\\x00\\x00\\x00rV\\xc5C\\x9b:\\xea\\x89\\x14/some-cool-software/\\x01\\x00\\x00\\x00\\x01'\n",
    "\n",
    "PEER_IP = \"35.167.105.93\"\n",
    "PEER_PORT = 8333\n",
    "\n",
    "sock = socket.socket()\n",
    "sock.connect((PEER_IP, PEER_PORT))\n",
    "stream = sock.makefile('rb')\n",
    "bites_stream = BitesStream(stream)\n",
    "\n",
    "# initiate the \"version handshake\"\n",
    "sock.send(VERSION)\n",
    "\n",
    "# receive their \"version\" response\n",
    "msg = NetworkEnvelope.from_stream(bites_stream)\n",
    "\n",
    "print(msg)\n",
    "print(msg.payload)"
   ]
  },
  {
   "cell_type": "code",
   "execution_count": null,
   "metadata": {},
   "outputs": [],
   "source": []
  }
 ],
 "metadata": {
  "kernelspec": {
   "display_name": "Python 3",
   "language": "python",
   "name": "python3"
  },
  "language_info": {
   "codemirror_mode": {
    "name": "ipython",
    "version": 3
   },
   "file_extension": ".py",
   "mimetype": "text/x-python",
   "name": "python",
   "nbconvert_exporter": "python",
   "pygments_lexer": "ipython3",
   "version": "3.7.2"
  }
 },
 "nbformat": 4,
 "nbformat_minor": 2
}
