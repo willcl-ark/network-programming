{
 "cells": [
  {
   "cell_type": "code",
   "execution_count": 41,
   "metadata": {
    "collapsed": true
   },
   "outputs": [],
   "source": [
    "import hashlib\n",
    "import struct\n",
    "import time\n",
    "import random\n",
    "import pprint\n",
    "\n",
    "from requests import get\n",
    "\n",
    "import chainparams\n",
    "\n",
    "LOCAL_WAN_IP = get('https://api.ipify.org').text\n",
    "LOCAL_PORT = 8333\n",
    "PEER_IP = \"77.98.116.8\"\n",
    "PEER_PORT = 8333\n",
    "\n",
    "\n",
    "# Almost all integers are encoded in little endian. Only IP or port number are encoded big endian.\n",
    "# And magic bytes looks like!\n",
    "\n",
    "# First class should be 'class Serializable' look e.g. in Todds Core.Serializer\n",
    "\n",
    "### Messages ###\n",
    "# Received as streams to be deserialized\n",
    "# Created as objects to be serialised and then streamed (e.g. to socket)\n",
    "# Each message will have a header (including command) and a payload\n",
    "# To serialize a message we combine the header and the payload\n",
    "# To deserialize a message we read the header and then pass the payload to the relevant subclass for further unpacking\n",
    "# Objects being (de)serialised will include: integers, strings, bools, var_ints and var_strings\n",
    "# Each object will be saved into a class attribute\n",
    "\n",
    "### Subclasses ###\n",
    "# Will contain message-specific attributes and methods\n",
    "\n",
    "\n",
    "\n",
    "#############\n",
    "#  Struct   #\n",
    "# Encodings #\n",
    "#############\n",
    "_bool = '?'\n",
    "char = 's'\n",
    "inv_vect = None\n",
    "net_addr = None\n",
    "uint8_t = 'B'\n",
    "uint16_t = 'H'\n",
    "uint32_t = 'I'\n",
    "uint64_t = 'Q'\n",
    "uchar = None\n",
    "var_int = None\n",
    "var_str = None\n",
    "\n",
    "\n",
    "# class Serializable:\n",
    "# \n",
    "#     # Base class for Serializing objects. To be expanded to streams + ... in future\n",
    "# \n",
    "#     @staticmethod\n",
    "#     def _to_bytes(msg, length=0, byteorder='little'):\n",
    "#         if isinstance(msg, bytes):\n",
    "#             return msg\n",
    "#         elif isinstance(msg, int):  # or isinstance(msg, bool):\n",
    "#             if length == 0:\n",
    "#                 length = msg.bit_length()\n",
    "#             return msg.to_bytes(length, byteorder)\n",
    "#         elif isinstance(msg, str):\n",
    "#             return msg.encode(encoding='UTF-8', errors='strict')\n",
    "#         # TODO: add float support?\n",
    "#         else:\n",
    "#             return print(\"message of type %s not supported by _to_bytes()\" % type(msg))\n",
    "\n",
    "\n",
    "class Message:\n",
    "\n",
    "    # Base Message class which can serialize payloads and generate headers\n",
    "\n",
    "    def __init__(self, command=None, payload=None,):\n",
    "        self.magic = struct.pack('>%s' % uint32_t, chainparams.mainParams.StartString)\n",
    "        self.command = command\n",
    "        self.command_bytes = None\n",
    "        self.length = struct.pack('<%s' % uint32_t, len(payload))\n",
    "        self.payload = payload\n",
    "        self.checksum = None\n",
    "        self.header = None\n",
    "        self.serialize_header()\n",
    "\n",
    "    def serialize_payload(self):\n",
    "        # TODO: make sure all payloads are coming in in bytes!!\n",
    "        self.length = struct.pack('<%s' % uint32_t, len(self.payload))\n",
    "\n",
    "        double_hash = hashlib.sha256(hashlib.sha256(self.payload).digest()).digest()\n",
    "        self.checksum = struct.pack('<4%s' % char, double_hash[:4])\n",
    "\n",
    "    def serialize_header(self):\n",
    "        self.serialize_payload()\n",
    "\n",
    "        # serialize and pack command message\n",
    "        b = self.command.encode(encoding='UTF-8', errors='strict')\n",
    "        self.command_bytes = struct.pack('<12%s' % char, b)\n",
    "\n",
    "        # Create the whole header\n",
    "        self.header = b\"\".join([self.magic,\n",
    "                                self.command_bytes,\n",
    "                                self.length,\n",
    "                                self.checksum])\n",
    "\n",
    "    def serialize(self):\n",
    "        self.serialize_header()\n",
    "        ser_msg = b\"\".join([self.header, self.payload])\n",
    "        return ser_msg\n",
    "    \n",
    "    def deserialize(self):\n",
    "        self.header = self.payload\n",
    "        self.deserialize_header()\n",
    "        return self.command, self.payload\n",
    "    \n",
    "    def deserialize_header(self):\n",
    "        pass\n",
    "    \n",
    "    @staticmethod\n",
    "    def to_var_int(x):\n",
    "        if x < 0xFD:\n",
    "            return struct.pack('<%s' % uint8_t, x)\n",
    "        elif x <= 0xFFFF:\n",
    "            return b\"\\xFD\" + struct.pack('<%s' % uint16_t, x)\n",
    "        elif x <= 0xFFFFFFFF:\n",
    "            return b\"\\xFE\" + struct.pack('<%s' % uint32_t, x)\n",
    "        elif x <= 0xFFFFFFFFFFFFFFFF:\n",
    "            return b\"\\xFF\" + struct.pack('<%s' % uint64_t, x)\n",
    "        else:\n",
    "            raise RuntimeError(\"integer too large for type<var_int>\")\n",
    "\n",
    "    @staticmethod\n",
    "    def to_var_str(x):\n",
    "        s = x.encode(encoding='UTF-8', errors='strict')\n",
    "        l = len(s)\n",
    "        ss = struct.pack('<%s%s' % (l, char), s)\n",
    "        return Message.to_var_int(l) + ss\n",
    "\n",
    "\n",
    "class NetworkAddress(Serializable):\n",
    "\n",
    "    def __init__(self, ip, services=1, port=8333):\n",
    "        self.time = struct.pack(b\"<I\", int(time.time()))\n",
    "        self.services = struct.pack('<%s' % uint64_t, services)\n",
    "\n",
    "        if ':' in ip:\n",
    "            self.ip = bytes(map(int, ip.split(':')))\n",
    "        else:\n",
    "            a = (b\"\\x00\" * 10) + (b\"\\xFF\" * 2)\n",
    "            a_bytes = bytes(map(int, ip.split('.')))\n",
    "            a += a_bytes\n",
    "            self.ip = struct.pack('>16%s' % char, a)\n",
    "\n",
    "        self.port = struct.pack('>%s' % uint16_t, port)\n",
    "        self.address = b\"\".join([self.time, self.services, self.ip, self.port])\n",
    "        self.addr_NT = b\"\".join([self.services, self.ip, self.port])\n",
    "\n",
    "    def regenerate(self, _services, _ip, _port):\n",
    "        self.__init__(services=_services, ip=_ip, port=_port)\n",
    "\n",
    "\n",
    "class VersionMessage(Message):\n",
    "\n",
    "    def __init__(self,\n",
    "                 version,\n",
    "                 services,\n",
    "                 addr_recv,\n",
    "                 addr_from,\n",
    "                 user_agent,\n",
    "                 start_height,\n",
    "                 relay):\n",
    "        self.version = version\n",
    "        self.services = services\n",
    "        self.timestamp = int(time.time())\n",
    "        self.addr_recv = addr_recv\n",
    "        self.addr_from = addr_from\n",
    "        self.nonce = random.getrandbits(64)\n",
    "        self.user_agent = user_agent\n",
    "        self.start_height = start_height\n",
    "        self.relay = relay\n",
    "        self.payload = b\"\"\n",
    "        self.command = 'version'\n",
    "        Message.__init__(self, command=self.command, payload=self.payload)\n",
    "\n",
    "    def generate_nonce(self):\n",
    "        self.nonce = random.getrandbits(64)\n",
    "        return self.nonce\n",
    "\n",
    "    def get_current_start_height(self):\n",
    "        # TODO: implement this\n",
    "        pass\n",
    "\n",
    "    def serialize(self):\n",
    "        msg = b\"\"\n",
    "        msg += struct.pack('<%s' % uint32_t, self.version)\n",
    "        msg += struct.pack('<%s' % uint64_t, self.services)\n",
    "        msg += struct.pack('<%s' % uint32_t, int(time.time()))\n",
    "        msg += self.addr_recv.addr_NT\n",
    "        msg += self.addr_from.addr_NT\n",
    "        msg += struct.pack('<%s' % uint64_t, self.generate_nonce())\n",
    "        msg += super().to_var_str(self.user_agent)\n",
    "        msg += struct.pack('<%s' % uint32_t, self.start_height)\n",
    "        msg += struct.pack('%s' % _bool, self.relay)\n",
    "        self.payload = msg\n",
    "        return Message.serialize(self)\n",
    "\n",
    "    avail_services = {hex(1): 'NODE_NETWORK',\n",
    "                         hex(2): 'NODE_GETUTXO',\n",
    "                         hex(4): 'NODE_BLOOM',\n",
    "                         hex(8): 'NODE_WITNESS',\n",
    "                         hex(1024): 'NODE_NETWORK_LIMITED'\n",
    "                         }\n",
    "\n",
    "\n",
    "class Verack(Message):\n",
    "\n",
    "    def __init__(self):\n",
    "        self.command = 'verack'\n",
    "        self.payload = b\"\"\n",
    "        Message.__init__(self, command=self.command, payload=self.payload)\n",
    "\n",
    "\n",
    "class Addr(Message):\n",
    "\n",
    "    def __init__(self):\n",
    "        self.command = 'addr'\n",
    "        self.payload = b\"\"\n",
    "        Message.__init__(self, command=self.command, payload=self.payload)\n"
   ]
  },
  {
   "cell_type": "code",
   "execution_count": 43,
   "metadata": {},
   "outputs": [
    {
     "name": "stdout",
     "output_type": "stream",
     "text": [
      "{'command': 'addr', 'payload': b'', 'magic': b'\\xf9\\xbe\\xb4\\xd9', 'command_bytes': b'addr\\x00\\x00\\x00\\x00\\x00\\x00\\x00\\x00', 'length': b'\\x00\\x00\\x00\\x00', 'checksum': b']\\xf6\\xe0\\xe2', 'header': b'\\xf9\\xbe\\xb4\\xd9addr\\x00\\x00\\x00\\x00\\x00\\x00\\x00\\x00\\x00\\x00\\x00\\x00]\\xf6\\xe0\\xe2'}\n"
     ]
    }
   ],
   "source": [
    "addr1 = Addr()\n",
    "print(vars(addr1))"
   ]
  },
  {
   "cell_type": "code",
   "execution_count": 26,
   "metadata": {},
   "outputs": [
    {
     "name": "stdout",
     "output_type": "stream",
     "text": [
      "b'\\xf9\\xbe\\xb4\\xd9' b'verack' b'\\x00\\x00\\x00\\x00' b']\\xf6\\xe0\\xe2'\nf9beb4d9 76657261636b000000000000 00000000 5df6e0e2\n12\n"
     ]
    }
   ],
   "source": [
    "verack = Verack()\n",
    "print(verack.magic, verack.command, verack.length, verack.checksum)\n",
    "verack.serialize()\n",
    "print(verack.magic.hex(), verack.command_bytes.hex(), verack.length.hex(), verack.checksum.hex())\n",
    "print(len(verack.command_bytes))"
   ]
  },
  {
   "cell_type": "code",
   "execution_count": 27,
   "metadata": {},
   "outputs": [
    {
     "name": "stdout",
     "output_type": "stream",
     "text": [
      "b'\\xf9\\xbe\\xb4\\xd9'\n"
     ]
    },
    {
     "data": {
      "text/plain": [
       "bytes"
      ]
     },
     "execution_count": 27,
     "metadata": {},
     "output_type": "execute_result"
    }
   ],
   "source": [
    "magic = chainparams.mainParams.StartString.to_bytes(4, byteorder='big')\n",
    "print(magic)\n",
    "type(magic)"
   ]
  },
  {
   "cell_type": "code",
   "execution_count": 28,
   "metadata": {},
   "outputs": [],
   "source": [
    "a = Message('block', '00000000000000001e8d6829a8a21adc5d38d0a473b144b6765798e61f98bd1d')"
   ]
  },
  {
   "cell_type": "code",
   "execution_count": 29,
   "metadata": {},
   "outputs": [
    {
     "name": "stdout",
     "output_type": "stream",
     "text": [
      "b'00000000000000001e8d6829a8a21adc5d38d0a473b144b6765798e61f98bd1d'\nb'\\xf9\\xbe\\xb4\\xd9block\\x00\\x00\\x00\\x00\\x00\\x00\\x00@\\x00\\x00\\x00\\x88\\x8b\\xa5&'\n"
     ]
    }
   ],
   "source": [
    "print(a._to_bytes(a.payload))\n",
    "print(a.header)"
   ]
  },
  {
   "cell_type": "code",
   "execution_count": 30,
   "metadata": {},
   "outputs": [
    {
     "name": "stdout",
     "output_type": "stream",
     "text": [
      "b'\\xf9\\xbe\\xb4\\xd9'\nblock\nb'@\\x00\\x00\\x00'\nb'00000000000000001e8d6829a8a21adc5d38d0a473b144b6765798e61f98bd1d'\npayload is type <class 'bytes'>\nb'\\x88\\x8b\\xa5&'\n"
     ]
    }
   ],
   "source": [
    "print(a.magic)\n",
    "print(a.command)\n",
    "print(a.length)\n",
    "print(a.payload)\n",
    "print(\"payload is type %s\" % type(a.payload))\n",
    "print(a.checksum)"
   ]
  },
  {
   "cell_type": "code",
   "execution_count": 31,
   "metadata": {},
   "outputs": [],
   "source": [
    "a.serialize_header()"
   ]
  },
  {
   "cell_type": "code",
   "execution_count": 32,
   "metadata": {},
   "outputs": [
    {
     "data": {
      "text/plain": [
       "b'\\xf9\\xbe\\xb4\\xd9block\\x00\\x00\\x00\\x00\\x00\\x00\\x00@\\x00\\x00\\x00\\x88\\x8b\\xa5&00000000000000001e8d6829a8a21adc5d38d0a473b144b6765798e61f98bd1d'"
      ]
     },
     "execution_count": 32,
     "metadata": {},
     "output_type": "execute_result"
    }
   ],
   "source": [
    "a.serialize()"
   ]
  },
  {
   "cell_type": "code",
   "execution_count": 33,
   "metadata": {},
   "outputs": [
    {
     "name": "stdout",
     "output_type": "stream",
     "text": [
      "{'checksum': b'\\x88\\x8b\\xa5&',\n 'command': 'block',\n 'command_bytes': b'block\\x00\\x00\\x00\\x00\\x00\\x00\\x00',\n 'header': b'\\xf9\\xbe\\xb4\\xd9block\\x00\\x00\\x00\\x00\\x00\\x00\\x00@\\x00\\x00\\x00'\n           b'\\x88\\x8b\\xa5&',\n 'length': b'@\\x00\\x00\\x00',\n 'magic': b'\\xf9\\xbe\\xb4\\xd9',\n 'payload': b'00000000000000001e8d6829a8a21adc5d38d0a473b144b6765798e61f98bd1d'}\n  payload is type <class 'bytes'>\n"
     ]
    }
   ],
   "source": [
    "pprint.pprint(vars(a))\n",
    "print(\"  payload is type %s\" % type(a.payload))"
   ]
  },
  {
   "cell_type": "code",
   "execution_count": 34,
   "metadata": {},
   "outputs": [
    {
     "name": "stdout",
     "output_type": "stream",
     "text": [
      "1000000000\nb'\\xfe\\x00\\xca\\x9a;'\nhello, world\nb'\\x0chello, world'\n"
     ]
    }
   ],
   "source": [
    "class Test(Message):\n",
    "    test_number = 1000000000\n",
    "    test_message = 'hello, world'\n",
    "    print(test_number)\n",
    "    print(Message.to_var_int(test_number))\n",
    "    print(test_message)\n",
    "    print(Message.to_var_str(test_message))\n",
    "    \n"
   ]
  },
  {
   "cell_type": "code",
   "execution_count": 35,
   "metadata": {},
   "outputs": [
    {
     "data": {
      "text/plain": [
       "b'\\x01'"
      ]
     },
     "execution_count": 35,
     "metadata": {},
     "output_type": "execute_result"
    }
   ],
   "source": [
    "Message._to_bytes(1)"
   ]
  },
  {
   "cell_type": "code",
   "execution_count": 36,
   "metadata": {},
   "outputs": [
    {
     "name": "stdout",
     "output_type": "stream",
     "text": [
      "{'addr_NT': b'\\x01\\x00\\x00\\x00\\x00\\x00\\x00\\x00\\x00\\x00\\x00\\x00\\x00\\x00\\x00\\x00'\n            b'\\x00\\x00\\xff\\xffMbt\\x08 \\x8d',\n 'address': b'\\xf6\\x00:\\\\\\x01\\x00\\x00\\x00\\x00\\x00\\x00\\x00\\x00\\x00\\x00\\x00'\n            b'\\x00\\x00\\x00\\x00\\x00\\x00\\xff\\xffMbt\\x08 \\x8d',\n 'ip': b'\\x00\\x00\\x00\\x00\\x00\\x00\\x00\\x00\\x00\\x00\\xff\\xffMbt\\x08',\n 'port': b' \\x8d',\n 'services': b'\\x01\\x00\\x00\\x00\\x00\\x00\\x00\\x00',\n 'time': b'\\xf6\\x00:\\\\'}\n"
     ]
    }
   ],
   "source": [
    "n = NetworkAddress(services=1, ip=\"77.98.116.8\", port=8333)\n",
    "pprint.pprint(vars(n))"
   ]
  },
  {
   "cell_type": "code",
   "execution_count": 37,
   "metadata": {},
   "outputs": [
    {
     "ename": "AttributeError",
     "evalue": "'VersionMessage' object has no attribute 'to_bytes'",
     "traceback": [
      "\u001b[0;31m---------------------------------------------------------------------------\u001b[0m",
      "\u001b[0;31mAttributeError\u001b[0m                            Traceback (most recent call last)",
      "\u001b[0;32m<ipython-input-37-148897a61754>\u001b[0m in \u001b[0;36m<module>\u001b[0;34m()\u001b[0m\n\u001b[1;32m     10\u001b[0m                    relay=1)\n\u001b[1;32m     11\u001b[0m \u001b[0;34m\u001b[0m\u001b[0m\n\u001b[0;32m---> 12\u001b[0;31m \u001b[0mv\u001b[0m\u001b[0;34m.\u001b[0m\u001b[0mto_bytes\u001b[0m\u001b[0;34m(\u001b[0m\u001b[0;34m)\u001b[0m\u001b[0;34m\u001b[0m\u001b[0m\n\u001b[0m",
      "\u001b[0;31mAttributeError\u001b[0m: 'VersionMessage' object has no attribute 'to_bytes'"
     ],
     "output_type": "error"
    }
   ],
   "source": [
    "peer = NetworkAddress(ip=PEER_IP)\n",
    "local = NetworkAddress(ip=LOCAL_WAN_IP)\n",
    "\n",
    "v = VersionMessage(version=70015,\n",
    "                   services=1,\n",
    "                   addr_recv=peer,\n",
    "                   addr_from=local,\n",
    "                   user_agent=\"/170000/Satoshi:0.17.0/\",\n",
    "                   start_height=558031,\n",
    "                   relay=1)\n",
    "\n",
    "v.to_bytes()\n"
   ]
  },
  {
   "cell_type": "code",
   "execution_count": 176,
   "metadata": {},
   "outputs": [
    {
     "name": "stdout",
     "output_type": "stream",
     "text": [
      "{'0x1': 'NODE_NETWORK',\n '0x2': 'NODE_GETUTXO',\n '0x4': 'NODE_BLOOM',\n '0x400': 'NODE_NETWORK_LIMITED',\n '0x8': 'NODE_WITNESS'}\n"
     ]
    }
   ],
   "source": [
    "pprint.pprint(v.assigned_services)"
   ]
  },
  {
   "cell_type": "code",
   "execution_count": 177,
   "metadata": {},
   "outputs": [],
   "source": []
  },
  {
   "cell_type": "code",
   "execution_count": 177,
   "metadata": {},
   "outputs": [],
   "source": []
  },
  {
   "cell_type": "code",
   "execution_count": null,
   "metadata": {},
   "outputs": [],
   "source": []
  }
 ],
 "metadata": {
  "kernelspec": {
   "display_name": "Python 2",
   "language": "python",
   "name": "python2"
  },
  "language_info": {
   "codemirror_mode": {
    "name": "ipython",
    "version": 2
   },
   "file_extension": ".py",
   "mimetype": "text/x-python",
   "name": "python",
   "nbconvert_exporter": "python",
   "pygments_lexer": "ipython2",
   "version": "2.7.6"
  }
 },
 "nbformat": 4,
 "nbformat_minor": 0
}
