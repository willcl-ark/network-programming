{
 "cells": [
  {
   "cell_type": "code",
   "execution_count": 177,
   "metadata": {
    "collapsed": true
   },
   "outputs": [],
   "source": [
    "import hashlib\n",
    "import struct\n",
    "import time\n",
    "import random\n",
    "import pprint\n",
    "\n",
    "from requests import get\n",
    "\n",
    "import chainparams\n",
    "\n",
    "LOCAL_WAN_IP = get('https://api.ipify.org').text\n",
    "LOCAL_PORT = 8333\n",
    "PEER_IP = \"77.98.116.8\"\n",
    "PEER_PORT = 8333\n",
    "\n",
    "# Almost all integers are encoded in little endian. Only IP or port number are encoded big endian.\n",
    "# And magic bytes?\n",
    "\n",
    "\n",
    "class Serializable:\n",
    "\n",
    "    @staticmethod\n",
    "    def _to_bytes(msg, length=0, byteorder='little'):\n",
    "        if isinstance(msg, bytes):\n",
    "            return msg\n",
    "        if isinstance(msg, int):  # or isinstance(msg, bool):\n",
    "            if length == 0:\n",
    "                length = msg.bit_length()\n",
    "            return msg.to_bytes(length, byteorder)\n",
    "        elif isinstance(msg, str):\n",
    "            return msg.encode(encoding='UTF-8', errors='strict')\n",
    "        # TODO: add float support?\n",
    "        else:\n",
    "            return print(\"message of type %s not supported by _to_bytes()\" % type(msg))\n",
    "\n",
    "\n",
    "class Message(Serializable):\n",
    "\n",
    "    def __init__(self, command, payload):\n",
    "        self.magic = struct.pack('>I', chainparams.mainParams.StartString)\n",
    "        self.command = command\n",
    "        self.command_bytes = None\n",
    "        self.length = struct.pack('<I', len(payload))\n",
    "        self.payload = payload\n",
    "        self.checksum = None\n",
    "        self.header = None\n",
    "\n",
    "    def serialize_payload(self):\n",
    "        if not isinstance(self.payload, bytes):\n",
    "            self.payload = super()._to_bytes(self.payload)\n",
    "        self.length = struct.pack('<I', len(self.payload))\n",
    "\n",
    "        double_hash = hashlib.sha256(hashlib.sha256(self.payload).digest()).digest()\n",
    "        self.checksum = struct.pack('<4s', double_hash[:4])\n",
    "\n",
    "    def generate_header(self):\n",
    "        self.serialize_payload()\n",
    "\n",
    "        # serialize and pack command message\n",
    "        b = super()._to_bytes(self.command)\n",
    "        self.command_bytes = struct.pack('<12s', b)\n",
    "\n",
    "        # Create the whole header\n",
    "        self.header = b\"\".join([self.magic, self.command_bytes, self.length, self.checksum])\n",
    "        \n",
    "    def to_bytes(self):\n",
    "        self.generate_header()\n",
    "        msg = b\"\".join([self.header, self.payload])\n",
    "        return msg\n",
    "\n",
    "    @staticmethod\n",
    "    def to_var_int(x):\n",
    "        if x < 0xFD:\n",
    "            # pack as uint8_t\n",
    "            return struct.pack('<B', x)\n",
    "        elif x <= 0xFFFF:\n",
    "            # pack as uint16_t\n",
    "            return b\"\\xFD\" + struct.pack('<H', x)\n",
    "        elif x <= 0xFFFFFFFF:\n",
    "            # pack as uint32_t\n",
    "            return b\"\\xFE\" + struct.pack('<I', x)\n",
    "        elif x <= 0xFFFFFFFFFFFFFFFF:\n",
    "            # pack as uint64_t\n",
    "            return b\"\\xFF\" + struct.pack('<Q', x)\n",
    "        else:\n",
    "            raise RuntimeError(\"integer too large for type<var_int>\")\n",
    "\n",
    "    @staticmethod\n",
    "    def to_var_str(x):\n",
    "        s = Serializable._to_bytes(x)\n",
    "        l = len(s)\n",
    "        ss = struct.pack('<%ss' % l, s)\n",
    "        return Message.to_var_int(l) + ss\n",
    "\n",
    "\n",
    "class NetworkAddress(Serializable):\n",
    "\n",
    "    def __init__(self, ip, services=1, port=8333):\n",
    "        self.time = struct.pack(b\"<I\", int(time.time()))\n",
    "        self.services = struct.pack('<Q', services)\n",
    "\n",
    "        if ':' in ip:\n",
    "            self.ip = bytes(map(int, ip.split(':')))\n",
    "        else:\n",
    "            a = (b\"\\x00\" * 10) + (b\"\\xFF\" * 2)\n",
    "            a_bytes = bytes(map(int, ip.split('.')))\n",
    "            a += a_bytes\n",
    "            self.ip = struct.pack('>16s', a)\n",
    "\n",
    "        self.port = struct.pack('>H', port)\n",
    "        self.address = b\"\".join([self.time, self.services, self.ip, self.port])\n",
    "        self.addr_NT = b\"\".join([self.services, self.ip, self.port])\n",
    "\n",
    "    def regenerate(self, _services, _ip, _port):\n",
    "        self.__init__(services=_services, ip=_ip, port=_port)\n",
    "\n",
    "\n",
    "class VersionMessage(Message):\n",
    "\n",
    "    def __init__(self,\n",
    "                 version,\n",
    "                 services,\n",
    "                 addr_recv,\n",
    "                 addr_from,\n",
    "                 user_agent,\n",
    "                 start_height,\n",
    "                 relay):\n",
    "\n",
    "        self.version = version\n",
    "        self.services = services\n",
    "        self.timestamp = int(time.time())\n",
    "        self.addr_recv = addr_recv\n",
    "        self.addr_from = addr_from\n",
    "        self.nonce = random.getrandbits(64)\n",
    "        self.user_agent = user_agent\n",
    "        self.start_height = start_height\n",
    "        self.relay = relay\n",
    "        self.payload= b\"\"\n",
    "        self.command = b\"version\"\n",
    "        Message.__init__(self, command=self.command, payload=self.payload)\n",
    "\n",
    "    def generate_nonce(self):\n",
    "        self.nonce = random.getrandbits(64)\n",
    "        return self.nonce\n",
    "\n",
    "    def get_current_start_height(self):\n",
    "        # TODO: implement this\n",
    "        pass\n",
    "\n",
    "    def to_bytes(self):\n",
    "        msg = b\"\"\n",
    "        msg += struct.pack('<I', self.version)\n",
    "        msg += struct.pack('<Q', self.services)\n",
    "        msg += struct.pack(\"<I\", int(time.time()))\n",
    "        msg += self.addr_recv.addr_NT\n",
    "        msg += self.addr_from.addr_NT\n",
    "        msg += struct.pack('<Q', self.generate_nonce())\n",
    "        msg += super().to_var_str(self.user_agent)\n",
    "        msg += struct.pack('<I', self.start_height)\n",
    "        msg += struct.pack('?', self.relay)\n",
    "        self.payload = msg\n",
    "        return Message.to_bytes(self)\n",
    "\n",
    "    assigned_services = {hex(1): 'NODE_NETWORK',\n",
    "                         hex(2): 'NODE_GETUTXO',\n",
    "                         hex(4): 'NODE_BLOOM',\n",
    "                         hex(8): 'NODE_WITNESS',\n",
    "                         hex(1024): 'NODE_NETWORK_LIMITED'\n",
    "                        }\n",
    "\n",
    "\n",
    "class Verack(Message):\n",
    "\n",
    "    def __init__(self):\n",
    "        self.command = b\"verack\"\n",
    "        self.payload = b\"\"\n",
    "        Message.__init__(self, command=self.command, payload=self.payload)\n",
    "        \n",
    "        \n",
    "class Addr(Message):\n",
    "\n",
    "    def __init__(self):\n",
    "        self.command = b\"addr\"\n",
    "        self.payload = b\"\"\n",
    "        Message.__init__(self, command=self.command, payload=self.payload)\n"
   ]
  },
  {
   "cell_type": "code",
   "execution_count": 179,
   "metadata": {},
   "outputs": [
    {
     "name": "stdout",
     "output_type": "stream",
     "text": [
      "{'command': b'addr', 'payload': b'', 'magic': b'\\xf9\\xbe\\xb4\\xd9', 'command_bytes': None, 'length': b'\\x00\\x00\\x00\\x00', 'checksum': None, 'header': None}\n"
     ]
    }
   ],
   "source": [
    "addr1 = Addr()\n",
    "print(vars(addr))"
   ]
  },
  {
   "cell_type": "code",
   "execution_count": 164,
   "metadata": {},
   "outputs": [
    {
     "name": "stdout",
     "output_type": "stream",
     "text": [
      "b'\\xf9\\xbe\\xb4\\xd9' b'verack' b'\\x00\\x00\\x00\\x00' None\nf9beb4d9 76657261636b000000000000 00000000 5df6e0e2\n12\n"
     ]
    }
   ],
   "source": [
    "verack = Verack()\n",
    "print(verack.magic, verack.command, verack.length, verack.checksum)\n",
    "verack.to_bytes()\n",
    "print(verack.magic.hex(), verack.command_bytes.hex(), verack.length.hex(), verack.checksum.hex())\n",
    "print(len(verack.command_bytes))"
   ]
  },
  {
   "cell_type": "code",
   "execution_count": 165,
   "metadata": {},
   "outputs": [
    {
     "name": "stdout",
     "output_type": "stream",
     "text": [
      "b'\\xf9\\xbe\\xb4\\xd9'\n"
     ]
    }
   ],
   "source": [
    "magic = chainparams.mainParams.StartString.to_bytes(4, byteorder='big')\n",
    "print(magic)\n",
    "type(magic)"
   ]
  },
  {
   "cell_type": "code",
   "execution_count": 166,
   "metadata": {},
   "outputs": [],
   "source": [
    "a = Message('block', '00000000000000001e8d6829a8a21adc5d38d0a473b144b6765798e61f98bd1d')"
   ]
  },
  {
   "cell_type": "code",
   "execution_count": 167,
   "metadata": {},
   "outputs": [
    {
     "name": "stdout",
     "output_type": "stream",
     "text": [
      "b'00000000000000001e8d6829a8a21adc5d38d0a473b144b6765798e61f98bd1d'\n"
     ]
    }
   ],
   "source": [
    "print(a._to_bytes(a.payload))"
   ]
  },
  {
   "cell_type": "code",
   "execution_count": 168,
   "metadata": {},
   "outputs": [
    {
     "name": "stdout",
     "output_type": "stream",
     "text": [
      "b'\\xf9\\xbe\\xb4\\xd9'\nblock\nb'@\\x00\\x00\\x00'\n00000000000000001e8d6829a8a21adc5d38d0a473b144b6765798e61f98bd1d\npayload is type <class 'str'>\nNone\n"
     ]
    }
   ],
   "source": [
    "print(a.magic)\n",
    "print(a.command)\n",
    "print(a.length)\n",
    "print(a.payload)\n",
    "print(\"payload is type %s\" % type(a.payload))\n",
    "print(a.checksum)"
   ]
  },
  {
   "cell_type": "code",
   "execution_count": 169,
   "metadata": {},
   "outputs": [],
   "source": [
    "a.generate_header()"
   ]
  },
  {
   "cell_type": "code",
   "execution_count": 170,
   "metadata": {},
   "outputs": [
    {
     "data": {
      "text/plain": [
       "b'\\xf9\\xbe\\xb4\\xd9block\\x00\\x00\\x00\\x00\\x00\\x00\\x00@\\x00\\x00\\x00\\x88\\x8b\\xa5&00000000000000001e8d6829a8a21adc5d38d0a473b144b6765798e61f98bd1d'"
      ]
     },
     "execution_count": 170,
     "metadata": {},
     "output_type": "execute_result"
    }
   ],
   "source": [
    "a.to_bytes()"
   ]
  },
  {
   "cell_type": "code",
   "execution_count": 171,
   "metadata": {},
   "outputs": [
    {
     "name": "stdout",
     "output_type": "stream",
     "text": [
      "{'checksum': b'\\x88\\x8b\\xa5&',\n 'command': 'block',\n 'command_bytes': b'block\\x00\\x00\\x00\\x00\\x00\\x00\\x00',\n 'header': b'\\xf9\\xbe\\xb4\\xd9block\\x00\\x00\\x00\\x00\\x00\\x00\\x00@\\x00\\x00\\x00'\n           b'\\x88\\x8b\\xa5&',\n 'length': b'@\\x00\\x00\\x00',\n 'magic': b'\\xf9\\xbe\\xb4\\xd9',\n 'payload': b'00000000000000001e8d6829a8a21adc5d38d0a473b144b6765798e61f98bd1d'}\n  payload is type <class 'bytes'>\n"
     ]
    }
   ],
   "source": [
    "pprint.pprint(vars(a))\n",
    "print(\"  payload is type %s\" % type(a.payload))"
   ]
  },
  {
   "cell_type": "code",
   "execution_count": 172,
   "metadata": {},
   "outputs": [
    {
     "name": "stdout",
     "output_type": "stream",
     "text": [
      "1000000000\nb'\\xfe\\x00\\xca\\x9a;'\nhello, world\nb'\\x0chello, world'\n"
     ]
    }
   ],
   "source": [
    "class Test(Message):\n",
    "    test_number = 1000000000\n",
    "    test_message = 'hello, world'\n",
    "    print(test_number)\n",
    "    print(Message.to_var_int(test_number))\n",
    "    print(test_message)\n",
    "    print(Message.to_var_str(test_message))\n",
    "    \n"
   ]
  },
  {
   "cell_type": "code",
   "execution_count": 173,
   "metadata": {},
   "outputs": [
    {
     "data": {
      "text/plain": [
       "b'\\x01'"
      ]
     },
     "execution_count": 173,
     "metadata": {},
     "output_type": "execute_result"
    }
   ],
   "source": [
    "Message._to_bytes(1)"
   ]
  },
  {
   "cell_type": "code",
   "execution_count": 174,
   "metadata": {},
   "outputs": [
    {
     "name": "stdout",
     "output_type": "stream",
     "text": [
      "{'addr_NT': b'\\x01\\x00\\x00\\x00\\x00\\x00\\x00\\x00\\x00\\x00\\x00\\x00\\x00\\x00\\x00\\x00'\n            b'\\x00\\x00\\xff\\xffMbt\\x08 \\x8d',\n 'address': b'c\\xbc8\\\\\\x01\\x00\\x00\\x00\\x00\\x00\\x00\\x00\\x00\\x00\\x00\\x00'\n            b'\\x00\\x00\\x00\\x00\\x00\\x00\\xff\\xffMbt\\x08 \\x8d',\n 'ip': b'\\x00\\x00\\x00\\x00\\x00\\x00\\x00\\x00\\x00\\x00\\xff\\xffMbt\\x08',\n 'port': b' \\x8d',\n 'services': b'\\x01\\x00\\x00\\x00\\x00\\x00\\x00\\x00',\n 'time': b'c\\xbc8\\\\'}\n"
     ]
    }
   ],
   "source": [
    "n = NetworkAddress(services=1, ip=\"77.98.116.8\", port=8333)\n",
    "pprint.pprint(vars(n))"
   ]
  },
  {
   "cell_type": "code",
   "execution_count": 175,
   "metadata": {},
   "outputs": [
    {
     "data": {
      "text/plain": [
       "b'\\xf9\\xbe\\xb4\\xd9version\\x00\\x00\\x00\\x00\\x00i\\x00\\x00\\x00F\\x01\\x95\\r\\x7f\\x11\\x01\\x00\\x01\\x00\\x00\\x00\\x00\\x00\\x00\\x00c\\xbc8\\\\\\x01\\x00\\x00\\x00\\x00\\x00\\x00\\x00\\x00\\x00\\x00\\x00\\x00\\x00\\x00\\x00\\x00\\x00\\xff\\xffMbt\\x08 \\x8d\\x01\\x00\\x00\\x00\\x00\\x00\\x00\\x00\\x00\\x00\\x00\\x00\\x00\\x00\\x00\\x00\\x00\\x00\\xff\\xffm\\xe0\\xdb\\xc4 \\x8d\\xb5\\xe2m\\rO<\\xf9{\\x17/170000/Satoshi:0.17.0/\\xcf\\x83\\x08\\x00\\x01'"
      ]
     },
     "execution_count": 175,
     "metadata": {},
     "output_type": "execute_result"
    }
   ],
   "source": [
    "peer = NetworkAddress(ip=PEER_IP)\n",
    "local = NetworkAddress(ip=LOCAL_WAN_IP)\n",
    "\n",
    "v = VersionMessage(version=70015,\n",
    "                   services=1,\n",
    "                   addr_recv=peer,\n",
    "                   addr_from=local,\n",
    "                   user_agent=\"/170000/Satoshi:0.17.0/\",\n",
    "                   start_height=558031,\n",
    "                   relay=1)\n",
    "\n",
    "v.to_bytes()\n"
   ]
  },
  {
   "cell_type": "code",
   "execution_count": 176,
   "metadata": {},
   "outputs": [
    {
     "name": "stdout",
     "output_type": "stream",
     "text": [
      "{'0x1': 'NODE_NETWORK',\n '0x2': 'NODE_GETUTXO',\n '0x4': 'NODE_BLOOM',\n '0x400': 'NODE_NETWORK_LIMITED',\n '0x8': 'NODE_WITNESS'}\n"
     ]
    }
   ],
   "source": [
    "pprint.pprint(v.assigned_services)"
   ]
  },
  {
   "cell_type": "code",
   "execution_count": 177,
   "metadata": {},
   "outputs": [],
   "source": []
  },
  {
   "cell_type": "code",
   "execution_count": 177,
   "metadata": {},
   "outputs": [],
   "source": []
  },
  {
   "cell_type": "code",
   "execution_count": null,
   "metadata": {},
   "outputs": [],
   "source": []
  }
 ],
 "metadata": {
  "kernelspec": {
   "display_name": "Python 2",
   "language": "python",
   "name": "python2"
  },
  "language_info": {
   "codemirror_mode": {
    "name": "ipython",
    "version": 2
   },
   "file_extension": ".py",
   "mimetype": "text/x-python",
   "name": "python",
   "nbconvert_exporter": "python",
   "pygments_lexer": "ipython2",
   "version": "2.7.6"
  }
 },
 "nbformat": 4,
 "nbformat_minor": 0
}
